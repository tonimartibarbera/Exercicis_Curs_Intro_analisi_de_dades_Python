{
 "cells": [
  {
   "cell_type": "code",
   "execution_count": 202,
   "metadata": {},
   "outputs": [],
   "source": [
    "# Instalamos la librería matplotlib\n",
    "# pip install matplotlib"
   ]
  },
  {
   "cell_type": "code",
   "execution_count": 1,
   "metadata": {},
   "outputs": [],
   "source": [
    "# Importamos todo lo neceario\n",
    "import matplotlib.pyplot as plt\n",
    "import numpy as np\n",
    "import pandas as pd\n",
    "import seaborn as sns\n",
    "import plotly.express as px"
   ]
  },
  {
   "cell_type": "markdown",
   "metadata": {},
   "source": [
    "# Parte 1\n",
    "## Objectius \n",
    "- Ús de les llibreries gràfiques.\n",
    "- Apendre a representar dades d'un Dataframe.\n",
    "- Ànalisis i extrapolació de les gràfiques.\n",
    "\n",
    "## Descripció:\n",
    "Utilitzant les biblioteques de visualització de dades Matplotlib o Seaborn, realitza els següents exercicis.\n",
    "\n",
    "### RECORDA\n",
    "En la ciència de dades una de les tasques més importants és l'anàlisi. Una gràfica sempre ha d'anar acompanyada d'una explicació d'aquesta. Aporta informació."
   ]
  },
  {
   "cell_type": "markdown",
   "metadata": {},
   "source": [
    "## Exercici 1 \n",
    "Descarrega el dataset\n",
    "\n",
    "- 2021_lloguer_preu_trim.csv\n",
    "extret de la web OpenDataBCN i resumeix-lo estadísticament i gràficament.\n",
    "\n",
    "Crea almenys una visualització per:\n",
    "\n",
    "- Una variable categòrica (Districte o Barri)\n",
    "- Una variable numèrica (Preu)\n",
    "- Una variable numèrica i una categòrica (Districte i Preu)\n",
    "- Dues variables numèriques (Any o Trimestre i Preu)\n",
    "- Tres variables (Barri o Districte, Trimestre i Preu)"
   ]
  },
  {
   "cell_type": "code",
   "execution_count": null,
   "metadata": {},
   "outputs": [],
   "source": []
  },
  {
   "cell_type": "markdown",
   "metadata": {},
   "source": [
    "## Exercici 2 \n",
    "Exporta els gràfics com imatges o com HTML."
   ]
  },
  {
   "cell_type": "code",
   "execution_count": null,
   "metadata": {},
   "outputs": [],
   "source": []
  },
  {
   "cell_type": "markdown",
   "metadata": {},
   "source": [
    "## Exercici 3 \n",
    "Proposa alguna visualització que creguis que pot resultar interessant."
   ]
  },
  {
   "cell_type": "code",
   "execution_count": null,
   "metadata": {},
   "outputs": [],
   "source": []
  },
  {
   "cell_type": "markdown",
   "metadata": {},
   "source": [
    "# Parte 2\n",
    "## Objectius \n",
    "- Visualització gràfica de Multiples variables.\n",
    "- Representació de Categorical Data.\n",
    "- Ús dels Box-Plots.\n",
    "##Descripció\n",
    "Visualització gràfica de múltiples variables.\n"
   ]
  },
  {
   "cell_type": "markdown",
   "metadata": {},
   "source": [
    "## Exercici 1 \n",
    "Realitza la pràctica del notebook \"EXAMINING DATA\" (descarrega la carpeta i executa). Aquest exercici consisteix a observar les diferents possibilitats que ofereixen les diferents llibreries de visualització gràfica."
   ]
  },
  {
   "cell_type": "code",
   "execution_count": null,
   "metadata": {},
   "outputs": [],
   "source": []
  }
 ],
 "metadata": {
  "kernelspec": {
   "display_name": "Python 3",
   "language": "python",
   "name": "python3"
  },
  "language_info": {
   "codemirror_mode": {
    "name": "ipython",
    "version": 3
   },
   "file_extension": ".py",
   "mimetype": "text/x-python",
   "name": "python",
   "nbconvert_exporter": "python",
   "pygments_lexer": "ipython3",
   "version": "3.11.4"
  }
 },
 "nbformat": 4,
 "nbformat_minor": 2
}
