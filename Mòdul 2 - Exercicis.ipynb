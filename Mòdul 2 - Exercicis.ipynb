{
 "cells": [
  {
   "cell_type": "markdown",
   "metadata": {},
   "source": [
    "# Parte 1\n",
    "## Descripció:\n",
    "Exercicis d'estructures de dades amb Python.\n",
    "## Objectius \n",
    "- Creació i accés a llistes en python.\n",
    "- Creació i accés a tuples en python.\n",
    "- Ús dels mètodes python.\n",
    "- Creació i accés a sets i diccionaris en python.\n"
   ]
  },
  {
   "cell_type": "code",
   "execution_count": 7,
   "metadata": {},
   "outputs": [
    {
     "data": {
      "text/plain": [
       "[['enero', 'febrero', 'marzo'],\n",
       " ['abril', 'mayo', 'junio'],\n",
       " ['julio', 'agosto', 'septiembre'],\n",
       " ['octubre', 'novembre', 'diciembre']]"
      ]
     },
     "execution_count": 7,
     "metadata": {},
     "output_type": "execute_result"
    }
   ],
   "source": [
    "# Exercici 1: Crea una llista que agrupi els mesos de l’any en trimestres (1T: gener, febrer i març; 2T: abril, maig, juny...), és a dir, una llista amb 4 llistes dins.\n",
    "\n",
    "T1 = ['enero', 'febrero', 'marzo']\n",
    "T2 = ['abril', 'mayo', 'junio']\n",
    "T3 = ['julio','agosto','septiembre']\n",
    "T4 = ['octubre', 'novembre', 'diciembre']\n",
    "lista = [T1, T2, T3, T4]\n",
    "lista"
   ]
  },
  {
   "cell_type": "code",
   "execution_count": 22,
   "metadata": {},
   "outputs": [
    {
     "data": {
      "text/plain": [
       "'septiembre octubre'"
      ]
     },
     "execution_count": 22,
     "metadata": {},
     "output_type": "execute_result"
    }
   ],
   "source": [
    "# Exercici 2\n",
    "#Crea un codi que et permeti accedir a: \n",
    "\n",
    "#   El segon mes del primer trimestre.\n",
    "#   Els mesos del primer trimestre.\n",
    "#   Setembre i octubre.\n",
    "lista[0][1]\n",
    "lista[2]\n",
    "lista [2][2] + ' ' + lista [3][0]"
   ]
  },
  {
   "cell_type": "code",
   "execution_count": 9,
   "metadata": {},
   "outputs": [
    {
     "data": {
      "text/plain": [
       "[4, 0, 8, 7, 7, 8, 5, 0, 7, 1]"
      ]
     },
     "execution_count": 9,
     "metadata": {},
     "output_type": "execute_result"
    }
   ],
   "source": [
    "#Exercici 3 (amb la llibreria random)\n",
    "#Crea una llista amb nombres desordenats i respon a les següents preguntes: \n",
    "#   Quants números hi ha?\n",
    "#   Quantes vegades apareix el número 3.\n",
    "#   Quantes vegades apareixen els nombres 3 i 4?\n",
    "#   Quin és el número més gran?\n",
    "#   Quins són els 3 números més petits?\n",
    "#   Quin és el rang d’aquesta llista?\n",
    "\n",
    "#Crear la llista\n",
    "import random\n",
    "#randint para número enteros; amb un for que itera fins a 10 vegades (en el range no incluye el 10... va de 0 a 10 sense el 10)\n",
    "lista_des = [random.randint(0,10) for x in range(10)]\n",
    "lista_des"
   ]
  },
  {
   "cell_type": "code",
   "execution_count": 10,
   "metadata": {},
   "outputs": [
    {
     "data": {
      "text/plain": [
       "[7, 3, 7, 6, 4]"
      ]
     },
     "execution_count": 10,
     "metadata": {},
     "output_type": "execute_result"
    }
   ],
   "source": [
    "#Otra forma\n",
    "lista_des2 = []\n",
    "for x in range(0,5):\n",
    "    #print(random.randint(0,10))\n",
    "    lista_des2.append(random.randint(0,10))\n",
    "lista_des2"
   ]
  },
  {
   "cell_type": "code",
   "execution_count": 11,
   "metadata": {},
   "outputs": [
    {
     "data": {
      "text/plain": [
       "1"
      ]
     },
     "execution_count": 11,
     "metadata": {},
     "output_type": "execute_result"
    }
   ],
   "source": [
    "#Quantes vegades hi ha el 6 a la llista?\n",
    "lista_des2.count(6)"
   ]
  },
  {
   "cell_type": "code",
   "execution_count": 12,
   "metadata": {},
   "outputs": [
    {
     "data": {
      "text/plain": [
       "7"
      ]
     },
     "execution_count": 12,
     "metadata": {},
     "output_type": "execute_result"
    }
   ],
   "source": [
    "#Màxim número de la llista\n",
    "max(lista_des2)"
   ]
  },
  {
   "cell_type": "code",
   "execution_count": 13,
   "metadata": {},
   "outputs": [
    {
     "data": {
      "text/plain": [
       "5"
      ]
     },
     "execution_count": 13,
     "metadata": {},
     "output_type": "execute_result"
    }
   ],
   "source": [
    "#Nombre d'elments de la llista (longitud)\n",
    "len(lista_des2)"
   ]
  },
  {
   "cell_type": "code",
   "execution_count": 14,
   "metadata": {},
   "outputs": [
    {
     "data": {
      "text/plain": [
       "{'Pomes': {'Qty': 5, '€': 0.42},\n",
       " 'Peres': {'Qty': 3, '€': 0.66},\n",
       " 'Kiwi': {'Qty': 4, '€': 3.95}}"
      ]
     },
     "execution_count": 14,
     "metadata": {},
     "output_type": "execute_result"
    }
   ],
   "source": [
    "#Exercici 4\n",
    "#Crea un diccionari de la següent forma i respon a les preguntes:\n",
    "compra = { \"Pomes\" : {\"Qty\": 5, \"€\": 0.42}, \"Peres\" : {\"Qty\": 3, \"€\": 0.66} } \n",
    "#   Afegeix alguna fruita més. Si no existeix la clau 'Kiwi' te la crea i sinó te la reemplaça. S'afegeix al final del diccionari\n",
    "compra ['Kiwi'] = {'Qty': 4, \"€\": 3.95}\n",
    "compra"
   ]
  },
  {
   "cell_type": "code",
   "execution_count": 15,
   "metadata": {},
   "outputs": [
    {
     "data": {
      "text/plain": [
       "1.98"
      ]
     },
     "execution_count": 15,
     "metadata": {},
     "output_type": "execute_result"
    }
   ],
   "source": [
    "#   Quant han costat les peres en total?\n",
    "compra['Peres']['Qty']*compra['Peres']['€']\n"
   ]
  },
  {
   "cell_type": "code",
   "execution_count": 23,
   "metadata": {},
   "outputs": [
    {
     "name": "stdout",
     "output_type": "stream",
     "text": [
      "La fruita més cara és Kiwi amb un preu de 3.95 € per unitat.\n"
     ]
    }
   ],
   "source": [
    "#   Quantes fruites hem comprat en total?\n",
    "compra['Pomes']['Qty']+compra['Peres']['Qty']+compra['Peres']['Qty']\n",
    "#   Quina és la fruita més cara?\n",
    "\n",
    "# Inicialitza la fruita més cara com la primera fruita del diccionari\n",
    "fruita_mes_cara = list(compra.keys())[0]\n",
    "preu_mes_car = compra[fruita_mes_cara][\"€\"]\n",
    "\n",
    "# Itera a través de les altres fruites per trobar la més cara\n",
    "for fruita, detalls in compra.items():\n",
    "    preu_unitari = detalls[\"€\"]\n",
    "    if preu_unitari > preu_mes_car:\n",
    "        fruita_mes_cara = fruita\n",
    "        preu_mes_car = preu_unitari\n",
    "\n",
    "print(f\"La fruita més cara és {fruita_mes_cara} amb un preu de {preu_mes_car} € per unitat.\")\n"
   ]
  },
  {
   "cell_type": "markdown",
   "metadata": {},
   "source": [
    "# Parte 2\n",
    "## Descripció:\n",
    "Exercicis d'estructures de control amb Python.\n",
    "## Objectius \n",
    "- Ús de condicionals i bucles. \n",
    "- Apendre a utilitzar if/else/elif. \n",
    "- Creació de funcions. "
   ]
  },
  {
   "cell_type": "markdown",
   "metadata": {},
   "source": [
    "## Exercici 1 \n",
    "L'exercici consisteix a crear una funció que et classifiqui una variable numèrica en funció de l’escala Suspès/Aprovat/Notable/Excel·lent. \n",
    "\n",
    "Recorda que Suspès < 5, Aprovat > 5 i < 7, Notable > 7 i < 9 i Excel·lent > 9."
   ]
  },
  {
   "cell_type": "code",
   "execution_count": 24,
   "metadata": {},
   "outputs": [
    {
     "name": "stdout",
     "output_type": "stream",
     "text": [
      "La nota 8.2 correspon a la categoria: Notable\n"
     ]
    }
   ],
   "source": [
    "def classificar_nota(nota):\n",
    "    if nota < 5:\n",
    "        return \"Suspès\"\n",
    "    elif 5 <= nota < 7:\n",
    "        return \"Aprovat\"\n",
    "    elif 7 <= nota < 9:\n",
    "        return \"Notable\"\n",
    "    else:\n",
    "        return \"Excel·lent\"\n",
    "\n",
    "# Exemple d'ús de la funció\n",
    "nota_estudiant = 8.2\n",
    "resultat_classificacio = classificar_nota(nota_estudiant)\n",
    "\n",
    "print(f\"La nota {nota_estudiant} correspon a la categoria: {resultat_classificacio}\")\n"
   ]
  },
  {
   "cell_type": "markdown",
   "metadata": {},
   "source": [
    "## Exercici 2\n",
    "Utilitzant el següent tutorial crea una funció que et pregunti dos números. T’ha de mostrar un missatge dient si el primer és més gran, el segon és més gran o són iguals. \n",
    "\n",
    "Programiz: Python Input, Output and Import: https://www.programiz.com/python-programming/input-output-import"
   ]
  },
  {
   "cell_type": "markdown",
   "metadata": {},
   "source": []
  },
  {
   "cell_type": "markdown",
   "metadata": {},
   "source": [
    "## Exercici 3\n",
    "Crea una funció que et pregunti el teu nom, i et demani un número. Si el número és 0, hauria de mostrar un missatge d’error. En cas contrari, hauria de mostrar el nom repetit tants cops com indiqui el número. Per exemple, “Joan Joan Joan”. "
   ]
  },
  {
   "cell_type": "code",
   "execution_count": 28,
   "metadata": {},
   "outputs": [
    {
     "name": "stdout",
     "output_type": "stream",
     "text": [
      "Resultat: ToniToniToni\n"
     ]
    }
   ],
   "source": [
    "def repetir_nom():\n",
    "    # Demana el nom a l'usuari\n",
    "    nom = input(\"Introdueix el teu nom: \")\n",
    "\n",
    "    # Demana un número a l'usuari\n",
    "    numero = int(input(\"Introdueix un número: \"))\n",
    "\n",
    "    # Verifica si el número és diferent de 0 i mostra el nom repetit\n",
    "    if numero != 0:\n",
    "        resultat = nom * numero\n",
    "        print(f\"Resultat: {resultat}\")\n",
    "    else:\n",
    "        print(\"Error: El número no pot ser 0.\")\n",
    "\n",
    "# Crida a la funció\n",
    "repetir_nom()\n"
   ]
  },
  {
   "cell_type": "markdown",
   "metadata": {},
   "source": [
    "## Exercici 4\n",
    "Crea una funció que donada una llista qualsevol, et digui si és simètrica o no. Si ho és, que et digui quants elements té."
   ]
  },
  {
   "cell_type": "code",
   "execution_count": 29,
   "metadata": {},
   "outputs": [
    {
     "name": "stdout",
     "output_type": "stream",
     "text": [
      "La llista és simètrica i té 5 elements.\n",
      "La llista no és simètrica.\n"
     ]
    }
   ],
   "source": [
    "def es_simetrica(llista):\n",
    "    # Comprova si la llista és simètrica\n",
    "    if llista == llista[::-1]:\n",
    "        longitud = len(llista)\n",
    "        return True, longitud\n",
    "    else:\n",
    "        return False, 0\n",
    "\n",
    "# Exemple d'ús de la funció\n",
    "exemple_llista_1 = [1, 2, 3, 2, 1]\n",
    "exemple_llista_2 = [1, 2, 3, 4, 5]\n",
    "\n",
    "# Comprova si les llistes són simètriques i mostra els resultats\n",
    "simetrica, longitud = es_simetrica(exemple_llista_1)\n",
    "if simetrica:\n",
    "    print(f\"La llista és simètrica i té {longitud} elements.\")\n",
    "else:\n",
    "    print(\"La llista no és simètrica.\")\n",
    "\n",
    "simetrica, longitud = es_simetrica(exemple_llista_2)\n",
    "if simetrica:\n",
    "    print(f\"La llista és simètrica i té {longitud} elements.\")\n",
    "else:\n",
    "    print(\"La llista no és simètrica.\")\n"
   ]
  },
  {
   "cell_type": "markdown",
   "metadata": {},
   "source": [
    "## Exercici 5\n",
    "Crea una funció que donada una llista, et digui quants números coincideixen amb la seva posició. Per exemple [3,4,2,0,2,3,6] el 2 i el 6 coincideixen."
   ]
  },
  {
   "cell_type": "code",
   "execution_count": 30,
   "metadata": {},
   "outputs": [
    {
     "name": "stdout",
     "output_type": "stream",
     "text": [
      "A la llista [3, 4, 2, 0, 2, 3, 6], hi ha 2 números que coincideixen amb la seva posició.\n",
      "Números que coincideixen: [2, 6]\n"
     ]
    }
   ],
   "source": [
    "def numeros_coincidents_amb_posicio(llista):\n",
    "    coincidents = [num for pos, num in enumerate(llista) if pos == num]\n",
    "    quantitat_coincidents = len(coincidents)\n",
    "    return quantitat_coincidents, coincidents\n",
    "\n",
    "# Exemple d'ús de la funció\n",
    "exemple_llista = [3, 4, 2, 0, 2, 3, 6]\n",
    "\n",
    "# Obté el resultat de la funció\n",
    "quantitat_coincidents, llista_coincidents = numeros_coincidents_amb_posicio(exemple_llista)\n",
    "\n",
    "# Mostra els resultats\n",
    "print(f\"A la llista {exemple_llista}, hi ha {quantitat_coincidents} números que coincideixen amb la seva posició.\")\n",
    "if quantitat_coincidents > 0:\n",
    "    print(f\"Números que coincideixen: {llista_coincidents}\")\n"
   ]
  }
 ],
 "metadata": {
  "kernelspec": {
   "display_name": "Python 3",
   "language": "python",
   "name": "python3"
  },
  "language_info": {
   "codemirror_mode": {
    "name": "ipython",
    "version": 3
   },
   "file_extension": ".py",
   "mimetype": "text/x-python",
   "name": "python",
   "nbconvert_exporter": "python",
   "pygments_lexer": "ipython3",
   "version": "3.11.4"
  }
 },
 "nbformat": 4,
 "nbformat_minor": 2
}
