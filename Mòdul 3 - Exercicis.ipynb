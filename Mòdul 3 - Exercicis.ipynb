{
 "cells": [
  {
   "cell_type": "markdown",
   "metadata": {},
   "source": [
    "# Parte 1\n",
    "## Objectius \n",
    "- Creació d'arrays amb la llibreria numpy. \n",
    "- Creació de matrius amb la llibreria numpy. \n",
    "- Ús dels mètodes de la llibreria numpy. \n",
    "- Utilització de funcions.\n",
    "\n",
    "## Descripció:\n",
    "En aquesta tasca treballaràs amb la llibreria numpy i amb les dades de la llibreria sklearn.datasets. D'aquesta llibreria descarrega el conjunt de dades denominat Iris. \n",
    "\n",
    "Tingues en compte que Iris està conformada per diversos conjunts de dades, dins d'ells, el array denominat: “data” i “target”. També està composta per llistes, per exemple: “feature_*names” i “target_*names”. \n",
    "\n",
    "Per a obtenir informació del dataset pots consultar el següent enllaç:\n",
    "\n",
    "sklearn.datasets.load_iris"
   ]
  },
  {
   "cell_type": "code",
   "execution_count": 1,
   "metadata": {},
   "outputs": [
    {
     "name": "stdout",
     "output_type": "stream",
     "text": [
      "Requirement already satisfied: scikit-learn in c:\\users\\tonim\\appdata\\local\\programs\\python\\python311\\lib\\site-packages (1.3.2)\n",
      "Requirement already satisfied: numpy<2.0,>=1.17.3 in c:\\users\\tonim\\appdata\\local\\programs\\python\\python311\\lib\\site-packages (from scikit-learn) (1.26.1)\n",
      "Requirement already satisfied: scipy>=1.5.0 in c:\\users\\tonim\\appdata\\local\\programs\\python\\python311\\lib\\site-packages (from scikit-learn) (1.11.3)\n",
      "Requirement already satisfied: joblib>=1.1.1 in c:\\users\\tonim\\appdata\\local\\programs\\python\\python311\\lib\\site-packages (from scikit-learn) (1.3.2)\n",
      "Requirement already satisfied: threadpoolctl>=2.0.0 in c:\\users\\tonim\\appdata\\local\\programs\\python\\python311\\lib\\site-packages (from scikit-learn) (3.2.0)\n",
      "Note: you may need to restart the kernel to use updated packages.\n"
     ]
    }
   ],
   "source": [
    "pip install -U scikit-learn"
   ]
  },
  {
   "cell_type": "markdown",
   "metadata": {},
   "source": [
    "## Exercici 1 \n",
    "Carregar “data” i \"target\" del conjunt de dades, i visualitza els 10 primers registres de cadascun."
   ]
  },
  {
   "cell_type": "code",
   "execution_count": 7,
   "metadata": {},
   "outputs": [
    {
     "name": "stdout",
     "output_type": "stream",
     "text": [
      "Primers 10 registres de les dades:\n",
      "   sepal length (cm)  sepal width (cm)  petal length (cm)  petal width (cm)  \\\n",
      "0                5.1               3.5                1.4               0.2   \n",
      "1                4.9               3.0                1.4               0.2   \n",
      "2                4.7               3.2                1.3               0.2   \n",
      "3                4.6               3.1                1.5               0.2   \n",
      "4                5.0               3.6                1.4               0.2   \n",
      "5                5.4               3.9                1.7               0.4   \n",
      "6                4.6               3.4                1.4               0.3   \n",
      "7                5.0               3.4                1.5               0.2   \n",
      "8                4.4               2.9                1.4               0.2   \n",
      "9                4.9               3.1                1.5               0.1   \n",
      "\n",
      "   target  \n",
      "0       0  \n",
      "1       0  \n",
      "2       0  \n",
      "3       0  \n",
      "4       0  \n",
      "5       0  \n",
      "6       0  \n",
      "7       0  \n",
      "8       0  \n",
      "9       0  \n"
     ]
    }
   ],
   "source": [
    "from sklearn.datasets import load_iris\n",
    "import pandas as pd\n",
    "\n",
    "# Carrega les dades de l'Iris dataset\n",
    "iris = load_iris()\n",
    "\n",
    "# Obtenir les dades i els objectius (target)\n",
    "data = iris.data\n",
    "target = iris.target\n",
    "\n",
    "# Crear un DataFrame de Pandas per visualitzar els primers 10 registres\n",
    "iris_df = pd.DataFrame(data, columns=iris.feature_names)\n",
    "iris_df['target'] = target\n",
    "\n",
    "# Visualitzar els 10 primers registres de les dades\n",
    "print(\"Primers 10 registres de les dades:\")\n",
    "print(iris_df.head(10))\n"
   ]
  },
  {
   "cell_type": "markdown",
   "metadata": {},
   "source": [
    "## Exercici 2\n",
    "Concatena “data” i “target” en un nou array. Mostra els 5 primers registres."
   ]
  },
  {
   "cell_type": "code",
   "execution_count": 8,
   "metadata": {},
   "outputs": [
    {
     "name": "stdout",
     "output_type": "stream",
     "text": [
      "Primers 5 registres després de la concatenació:\n",
      "   sepal length (cm)  sepal width (cm)  petal length (cm)  petal width (cm)  \\\n",
      "0                5.1               3.5                1.4               0.2   \n",
      "1                4.9               3.0                1.4               0.2   \n",
      "2                4.7               3.2                1.3               0.2   \n",
      "3                4.6               3.1                1.5               0.2   \n",
      "4                5.0               3.6                1.4               0.2   \n",
      "\n",
      "   target  \n",
      "0     0.0  \n",
      "1     0.0  \n",
      "2     0.0  \n",
      "3     0.0  \n",
      "4     0.0  \n"
     ]
    }
   ],
   "source": [
    "import numpy as np\n",
    "\n",
    "# Concatena \"data\" i \"target\" en un nou array\n",
    "iris_combined = np.column_stack((data, target))\n",
    "\n",
    "# Crear un DataFrame per visualitzar els primers 5 registres\n",
    "combined_df = pd.DataFrame(iris_combined, columns=iris.feature_names + ['target'])\n",
    "\n",
    "# Visualitzar els 5 primers registres de les dades combinades\n",
    "print(\"Primers 5 registres després de la concatenació:\")\n",
    "print(combined_df.head(5))\n"
   ]
  },
  {
   "cell_type": "markdown",
   "metadata": {},
   "source": [
    "## Exercici 3\n",
    "Calcula la mitjana i desviació estàndard de la longitud del sèpal (\"sepal length (cm)\") i la longitud del pètal (\"petal length (cm)\"). Mostra els resultats amb dos decimals."
   ]
  },
  {
   "cell_type": "code",
   "execution_count": 9,
   "metadata": {},
   "outputs": [
    {
     "name": "stdout",
     "output_type": "stream",
     "text": [
      "Mitjana de la longitud del sèpal: 5.84\n",
      "Desviació estàndard de la longitud del sèpal: 0.83\n",
      "Mitjana de la longitud del pètal: 3.76\n",
      "Desviació estàndard de la longitud del pètal: 1.77\n"
     ]
    }
   ],
   "source": [
    "# Calcular la mitjana i desviació estàndard de la longitud del sèpal i del pètal\n",
    "sepal_length_mean = iris_df['sepal length (cm)'].mean()\n",
    "sepal_length_std = iris_df['sepal length (cm)'].std()\n",
    "\n",
    "petal_length_mean = iris_df['petal length (cm)'].mean()\n",
    "petal_length_std = iris_df['petal length (cm)'].std()\n",
    "\n",
    "# Mostrar els resultats amb dos decimals\n",
    "print(f\"Mitjana de la longitud del sèpal: {sepal_length_mean:.2f}\")\n",
    "print(f\"Desviació estàndard de la longitud del sèpal: {sepal_length_std:.2f}\")\n",
    "\n",
    "print(f\"Mitjana de la longitud del pètal: {petal_length_mean:.2f}\")\n",
    "print(f\"Desviació estàndard de la longitud del pètal: {petal_length_std:.2f}\")\n"
   ]
  },
  {
   "cell_type": "markdown",
   "metadata": {},
   "source": [
    "## Exercici 4\n",
    "Selecciona una mostra aleatòria de 20 registres del conjunt que has obtingut en l'exercici anterior. La utilitzaràs d'aquí endavant."
   ]
  },
  {
   "cell_type": "code",
   "execution_count": 12,
   "metadata": {},
   "outputs": [
    {
     "name": "stdout",
     "output_type": "stream",
     "text": [
      "Mostra aleatòria de 20 registres:\n",
      "     sepal length (cm)  sepal width (cm)  petal length (cm)  petal width (cm)  \\\n",
      "73                 6.1               2.8                4.7               1.2   \n",
      "18                 5.7               3.8                1.7               0.3   \n",
      "118                7.7               2.6                6.9               2.3   \n",
      "78                 6.0               2.9                4.5               1.5   \n",
      "76                 6.8               2.8                4.8               1.4   \n",
      "31                 5.4               3.4                1.5               0.4   \n",
      "64                 5.6               2.9                3.6               1.3   \n",
      "141                6.9               3.1                5.1               2.3   \n",
      "68                 6.2               2.2                4.5               1.5   \n",
      "82                 5.8               2.7                3.9               1.2   \n",
      "110                6.5               3.2                5.1               2.0   \n",
      "12                 4.8               3.0                1.4               0.1   \n",
      "36                 5.5               3.5                1.3               0.2   \n",
      "9                  4.9               3.1                1.5               0.1   \n",
      "19                 5.1               3.8                1.5               0.3   \n",
      "56                 6.3               3.3                4.7               1.6   \n",
      "104                6.5               3.0                5.8               2.2   \n",
      "69                 5.6               2.5                3.9               1.1   \n",
      "55                 5.7               2.8                4.5               1.3   \n",
      "132                6.4               2.8                5.6               2.2   \n",
      "\n",
      "     target  \n",
      "73      1.0  \n",
      "18      0.0  \n",
      "118     2.0  \n",
      "78      1.0  \n",
      "76      1.0  \n",
      "31      0.0  \n",
      "64      1.0  \n",
      "141     2.0  \n",
      "68      1.0  \n",
      "82      1.0  \n",
      "110     2.0  \n",
      "12      0.0  \n",
      "36      0.0  \n",
      "9       0.0  \n",
      "19      0.0  \n",
      "56      1.0  \n",
      "104     2.0  \n",
      "69      1.0  \n",
      "55      1.0  \n",
      "132     2.0  \n"
     ]
    }
   ],
   "source": [
    "# Seleccionar una mostra aleatòria de 20 registres\n",
    "mostra_aleatoria = combined_df.sample(n=20, random_state=42)  # Pots canviar el random_state segons la preferència\n",
    "\n",
    "# Mostrar la mostra aleatòria\n",
    "print(\"Mostra aleatòria de 20 registres:\")\n",
    "print(mostra_aleatoria)\n"
   ]
  },
  {
   "cell_type": "markdown",
   "metadata": {},
   "source": [
    "## Exercici 5\n",
    "Crea una matriu que mostri:  \n",
    "\n",
    "La mitjana de cada característica per espècie. (mean)\n",
    "La desviació estàndard de cada característica per espècie. (std)"
   ]
  },
  {
   "cell_type": "code",
   "execution_count": 13,
   "metadata": {},
   "outputs": [
    {
     "name": "stdout",
     "output_type": "stream",
     "text": [
      "Matriu de resums per espècie:\n",
      "       sepal length (cm)       sepal width (cm)       petal length (cm)        \\\n",
      "                    mean   std             mean   std              mean   std   \n",
      "target                                                                          \n",
      "0.0                 5.01  0.35             3.43  0.38              1.46  0.17   \n",
      "1.0                 5.94  0.52             2.77  0.31              4.26  0.47   \n",
      "2.0                 6.59  0.64             2.97  0.32              5.55  0.55   \n",
      "\n",
      "       petal width (cm)        \n",
      "                   mean   std  \n",
      "target                         \n",
      "0.0                0.25  0.11  \n",
      "1.0                1.33  0.20  \n",
      "2.0                2.03  0.27  \n"
     ]
    }
   ],
   "source": [
    "# Agrupa les dades per espècie\n",
    "gruped_df = combined_df.groupby('target')\n",
    "\n",
    "# Calcula la mitjana i desviació estàndard per espècie\n",
    "matriu_resums = gruped_df.agg({'sepal length (cm)': ['mean', 'std'],\n",
    "                                'sepal width (cm)': ['mean', 'std'],\n",
    "                                'petal length (cm)': ['mean', 'std'],\n",
    "                                'petal width (cm)': ['mean', 'std']})\n",
    "\n",
    "# Mostra la matriu de resums amb dos decimals\n",
    "print(\"Matriu de resums per espècie:\")\n",
    "print(matriu_resums.round(2))\n"
   ]
  },
  {
   "cell_type": "markdown",
   "metadata": {},
   "source": [
    "## Exercici 6\n",
    "Calcula la quantitat de mostres per espècie.\n",
    "Troba l'espècie amb el valor màxim mitjana de la variable \"sepal length (cm)\""
   ]
  },
  {
   "cell_type": "code",
   "execution_count": 14,
   "metadata": {},
   "outputs": [
    {
     "name": "stdout",
     "output_type": "stream",
     "text": [
      "Quantitat de mostres per espècie:\n",
      "target\n",
      "0.0    50\n",
      "1.0    50\n",
      "2.0    50\n",
      "Name: count, dtype: int64\n",
      "\n",
      "Espècie amb el valor màxim de mitjana de 'sepal length (cm)': 2.0\n",
      "Mitjana màxima de 'sepal length (cm)': 6.59\n"
     ]
    }
   ],
   "source": [
    "# Quantitat de mostres per espècie\n",
    "mostres_per_especie = combined_df['target'].value_counts()\n",
    "\n",
    "# Mostrar la quantitat de mostres per espècie\n",
    "print(\"Quantitat de mostres per espècie:\")\n",
    "print(mostres_per_especie)\n",
    "\n",
    "# Trobar l'espècie amb el valor màxim de la mitjana de \"sepal length (cm)\"\n",
    "especie_max_sepal_length = matriu_resums[('sepal length (cm)', 'mean')].idxmax()\n",
    "max_sepal_length_mean = matriu_resums.loc[especie_max_sepal_length, ('sepal length (cm)', 'mean')]\n",
    "\n",
    "# Mostrar l'espècie amb el valor màxim de la mitjana de \"sepal length (cm)\"\n",
    "print(f\"\\nEspècie amb el valor màxim de mitjana de 'sepal length (cm)': {especie_max_sepal_length}\")\n",
    "print(f\"Mitjana màxima de 'sepal length (cm)': {max_sepal_length_mean:.2f}\")\n"
   ]
  },
  {
   "cell_type": "markdown",
   "metadata": {},
   "source": [
    "## Exercici 7\n",
    "Calcula la matriu de correlació entre les variables.\n",
    "Filtra els valors majors a la mitjana (de l'exercici 3) de la longitud dels pètals i mostra-ho. \n",
    "Troba la mostra amb els pètals més llargs."
   ]
  },
  {
   "cell_type": "code",
   "execution_count": 15,
   "metadata": {},
   "outputs": [
    {
     "name": "stdout",
     "output_type": "stream",
     "text": [
      "Matriu de correlació entre les variables:\n",
      "                   sepal length (cm)  sepal width (cm)  petal length (cm)  \\\n",
      "sepal length (cm)           1.000000         -0.117570           0.871754   \n",
      "sepal width (cm)           -0.117570          1.000000          -0.428440   \n",
      "petal length (cm)           0.871754         -0.428440           1.000000   \n",
      "petal width (cm)            0.817941         -0.366126           0.962865   \n",
      "target                      0.782561         -0.426658           0.949035   \n",
      "\n",
      "                   petal width (cm)    target  \n",
      "sepal length (cm)          0.817941  0.782561  \n",
      "sepal width (cm)          -0.366126 -0.426658  \n",
      "petal length (cm)          0.962865  0.949035  \n",
      "petal width (cm)           1.000000  0.956547  \n",
      "target                     0.956547  1.000000  \n",
      "\n",
      "Valors majors a la mitjana de la longitud dels pètals:\n",
      "Series([], Name: petal length (cm), dtype: float64)\n",
      "\n",
      "Mostra amb els pètals més llargs:\n",
      "sepal length (cm)    7.7\n",
      "sepal width (cm)     2.6\n",
      "petal length (cm)    6.9\n",
      "petal width (cm)     2.3\n",
      "target               2.0\n",
      "Name: 118, dtype: float64\n"
     ]
    }
   ],
   "source": [
    "# Matriu de correlació entre les variables\n",
    "matriu_correlacio = combined_df.corr()\n",
    "\n",
    "# Mostrar la matriu de correlació\n",
    "print(\"Matriu de correlació entre les variables:\")\n",
    "print(matriu_correlacio)\n",
    "\n",
    "# Filtrar els valors majors a la mitjana de la longitud dels pètals\n",
    "mitjana_longitud_petals = combined_df['petal length (cm)'].mean()\n",
    "valors_major_mitjana_petals = matriu_correlacio['petal length (cm)'][matriu_correlacio['petal length (cm)'] > mitjana_longitud_petals]\n",
    "\n",
    "# Mostrar els valors majors a la mitjana de la longitud dels pètals\n",
    "print(\"\\nValors majors a la mitjana de la longitud dels pètals:\")\n",
    "print(valors_major_mitjana_petals)\n",
    "\n",
    "# Trobar la mostra amb els pètals més llargs\n",
    "mostra_petals_mes_llargs = combined_df.loc[combined_df['petal length (cm)'].idxmax()]\n",
    "\n",
    "# Mostrar la mostra amb els pètals més llargs\n",
    "print(\"\\nMostra amb els pètals més llargs:\")\n",
    "print(mostra_petals_mes_llargs)\n"
   ]
  }
 ],
 "metadata": {
  "kernelspec": {
   "display_name": "Python 3",
   "language": "python",
   "name": "python3"
  },
  "language_info": {
   "codemirror_mode": {
    "name": "ipython",
    "version": 3
   },
   "file_extension": ".py",
   "mimetype": "text/x-python",
   "name": "python",
   "nbconvert_exporter": "python",
   "pygments_lexer": "ipython3",
   "version": "3.11.4"
  }
 },
 "nbformat": 4,
 "nbformat_minor": 2
}
